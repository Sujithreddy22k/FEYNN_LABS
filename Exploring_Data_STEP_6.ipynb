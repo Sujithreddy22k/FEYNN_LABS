{
  "nbformat": 4,
  "nbformat_minor": 0,
  "metadata": {
    "colab": {
      "provenance": []
    },
    "kernelspec": {
      "name": "python3",
      "display_name": "Python 3"
    },
    "language_info": {
      "name": "python"
    }
  },
  "cells": [
    {
      "cell_type": "markdown",
      "source": [
        "**EXPLORING DATA**"
      ],
      "metadata": {
        "id": "36wFcO0XA_78"
      }
    },
    {
      "cell_type": "code",
      "execution_count": 10,
      "metadata": {
        "colab": {
          "base_uri": "https://localhost:8080/"
        },
        "id": "AWFv9CM4_QJb",
        "outputId": "c7cdba36-aefd-4f96-8734-7554f16b10fb"
      },
      "outputs": [
        {
          "output_type": "stream",
          "name": "stdout",
          "text": [
            "  yummy convenient spicy fattening greasy fast cheap tasty expensive healthy  \\\n",
            "0    No        Yes    No       Yes     No  Yes   Yes    No       Yes      No   \n",
            "1   Yes        Yes    No       Yes    Yes  Yes   Yes   Yes       Yes      No   \n",
            "2    No        Yes   Yes       Yes    Yes  Yes    No   Yes       Yes     Yes   \n",
            "3   Yes        Yes    No       Yes    Yes  Yes   Yes   Yes        No      No   \n",
            "4    No        Yes    No       Yes    Yes  Yes   Yes    No        No     Yes   \n",
            "\n",
            "  disgusting Like  Age      VisitFrequency  Gender  \n",
            "0         No   -3   61  Every three months  Female  \n",
            "1         No   +2   51  Every three months  Female  \n",
            "2         No   +1   62  Every three months  Female  \n",
            "3        Yes   +4   69         Once a week  Female  \n",
            "4         No   +2   49        Once a month    Male  \n",
            "<class 'pandas.core.frame.DataFrame'>\n",
            "RangeIndex: 1453 entries, 0 to 1452\n",
            "Data columns (total 15 columns):\n",
            " #   Column          Non-Null Count  Dtype \n",
            "---  ------          --------------  ----- \n",
            " 0   yummy           1453 non-null   object\n",
            " 1   convenient      1453 non-null   object\n",
            " 2   spicy           1453 non-null   object\n",
            " 3   fattening       1453 non-null   object\n",
            " 4   greasy          1453 non-null   object\n",
            " 5   fast            1453 non-null   object\n",
            " 6   cheap           1453 non-null   object\n",
            " 7   tasty           1453 non-null   object\n",
            " 8   expensive       1453 non-null   object\n",
            " 9   healthy         1453 non-null   object\n",
            " 10  disgusting      1453 non-null   object\n",
            " 11  Like            1453 non-null   object\n",
            " 12  Age             1453 non-null   int64 \n",
            " 13  VisitFrequency  1453 non-null   object\n",
            " 14  Gender          1453 non-null   object\n",
            "dtypes: int64(1), object(14)\n",
            "memory usage: 170.4+ KB\n",
            "None\n",
            "               Age\n",
            "count  1453.000000\n",
            "mean     44.604955\n",
            "std      14.221178\n",
            "min      18.000000\n",
            "25%      33.000000\n",
            "50%      45.000000\n",
            "75%      57.000000\n",
            "max      71.000000\n",
            "yummy: ['No' 'Yes']\n",
            "convenient: ['Yes' 'No']\n",
            "spicy: ['No' 'Yes']\n",
            "fattening: ['Yes' 'No']\n",
            "greasy: ['No' 'Yes']\n",
            "fast: ['Yes' 'No']\n",
            "cheap: ['Yes' 'No']\n",
            "tasty: ['No' 'Yes']\n",
            "expensive: ['Yes' 'No']\n",
            "healthy: ['No' 'Yes']\n",
            "disgusting: ['No' 'Yes']\n",
            "Like: ['-3' '+2' '+1' '+4' 'I love it!+5' 'I hate it!-5' '-2' '+3' '0' '-4' '-1']\n",
            "VisitFrequency: ['Every three months' 'Once a week' 'Once a month' 'Once a year'\n",
            " 'More than once a week' 'Never']\n",
            "Gender: ['Female' 'Male']\n"
          ]
        }
      ],
      "source": [
        "import pandas as pd\n",
        "\n",
        "# Load dataset\n",
        "data = pd.read_csv('/content/sample_data/mcdonalds.csv')\n",
        "\n",
        "# Initial inspection: first few rows\n",
        "print(data.head())\n",
        "\n",
        "# Check for variable types and structure\n",
        "print(data.info())\n",
        "\n",
        "# Summary statistics for numeric columns\n",
        "print(data.describe())\n",
        "\n",
        "# Check the unique values in categorical columns\n",
        "for column in data.select_dtypes(include=['object']).columns:\n",
        "    print(f\"{column}: {data[column].unique()}\")\n"
      ]
    },
    {
      "cell_type": "markdown",
      "source": [
        "**DATA CLEANING**"
      ],
      "metadata": {
        "id": "T31wAdb2AMBG"
      }
    },
    {
      "cell_type": "code",
      "source": [
        "# Display unique values for categorical columns\n",
        "for col in data.select_dtypes(include=['object']).columns:\n",
        "    print(f\"{col}: {data[col].unique()}\")\n",
        "\n",
        "# Standardize labels (example: standardizing 'Gender' values)\n",
        "data['Gender'] = data['Gender'].str.strip().str.capitalize()\n"
      ],
      "metadata": {
        "colab": {
          "base_uri": "https://localhost:8080/"
        },
        "id": "1eqeoog__moc",
        "outputId": "d954a170-4e0f-439e-f897-4c58258f45c3"
      },
      "execution_count": 11,
      "outputs": [
        {
          "output_type": "stream",
          "name": "stdout",
          "text": [
            "yummy: ['No' 'Yes']\n",
            "convenient: ['Yes' 'No']\n",
            "spicy: ['No' 'Yes']\n",
            "fattening: ['Yes' 'No']\n",
            "greasy: ['No' 'Yes']\n",
            "fast: ['Yes' 'No']\n",
            "cheap: ['Yes' 'No']\n",
            "tasty: ['No' 'Yes']\n",
            "expensive: ['Yes' 'No']\n",
            "healthy: ['No' 'Yes']\n",
            "disgusting: ['No' 'Yes']\n",
            "Like: ['-3' '+2' '+1' '+4' 'I love it!+5' 'I hate it!-5' '-2' '+3' '0' '-4' '-1']\n",
            "VisitFrequency: ['Every three months' 'Once a week' 'Once a month' 'Once a year'\n",
            " 'More than once a week' 'Never']\n",
            "Gender: ['Female' 'Male']\n"
          ]
        }
      ]
    },
    {
      "cell_type": "code",
      "source": [
        "# Replace implausible values (if found)\n",
        "# Example: Replace missing/invalid 'Age' values with median\n",
        "data['Age'] = pd.to_numeric(data['Age'], errors='coerce')  # Convert non-numeric to NaN\n",
        "data['Age'].fillna(data['Age'].median(), inplace=True)\n"
      ],
      "metadata": {
        "colab": {
          "base_uri": "https://localhost:8080/"
        },
        "id": "GOVOaao_v0yF",
        "outputId": "7880cd2c-fa66-410c-9af0-53c8435e6cda"
      },
      "execution_count": 12,
      "outputs": [
        {
          "output_type": "stream",
          "name": "stderr",
          "text": [
            "<ipython-input-12-34b1bf305643>:4: FutureWarning: A value is trying to be set on a copy of a DataFrame or Series through chained assignment using an inplace method.\n",
            "The behavior will change in pandas 3.0. This inplace method will never work because the intermediate object on which we are setting values always behaves as a copy.\n",
            "\n",
            "For example, when doing 'df[col].method(value, inplace=True)', try using 'df.method({col: value}, inplace=True)' or df[col] = df[col].method(value) instead, to perform the operation inplace on the original object.\n",
            "\n",
            "\n",
            "  data['Age'].fillna(data['Age'].median(), inplace=True)\n"
          ]
        }
      ]
    },
    {
      "cell_type": "code",
      "source": [
        "# Check for missing values and handle them\n",
        "print(data.isnull().sum())\n",
        "data = data.dropna()  # Drop rows with NaN, or you can impute them\n",
        "\n",
        "# Identify outliers using boxplots\n",
        "import matplotlib.pyplot as plt\n",
        "\n",
        "for col in data.select_dtypes(include=['float64', 'int64']).columns:\n",
        "    plt.figure()\n",
        "    plt.boxplot(data[col])\n",
        "    plt.title(f'Boxplot of {col}')\n",
        "    plt.show()\n"
      ],
      "metadata": {
        "colab": {
          "base_uri": "https://localhost:8080/",
          "height": 730
        },
        "id": "THBmv2tAv3uz",
        "outputId": "b8b400d8-1b29-4f7a-f196-7ac0cbb8b46c"
      },
      "execution_count": 13,
      "outputs": [
        {
          "output_type": "stream",
          "name": "stdout",
          "text": [
            "yummy             0\n",
            "convenient        0\n",
            "spicy             0\n",
            "fattening         0\n",
            "greasy            0\n",
            "fast              0\n",
            "cheap             0\n",
            "tasty             0\n",
            "expensive         0\n",
            "healthy           0\n",
            "disgusting        0\n",
            "Like              0\n",
            "Age               0\n",
            "VisitFrequency    0\n",
            "Gender            0\n",
            "dtype: int64\n"
          ]
        },
        {
          "output_type": "display_data",
          "data": {
            "text/plain": [
              "<Figure size 640x480 with 1 Axes>"
            ],
            "image/png": "[encoded data removed]"
          },
          "metadata": {}
        }
      ]
    },
    {
      "cell_type": "markdown",
      "source": [
        "** Descriptive Analysis**"
      ],
      "metadata": {
        "id": "NEKjSjC7ARR9"
      }
    },
    {
      "cell_type": "code",
      "source": [
        "# Generate summary statistics for numeric columns\n",
        "print(data.describe())\n"
      ],
      "metadata": {
        "colab": {
          "base_uri": "https://localhost:8080/"
        },
        "id": "oQ18cF-Gv6iE",
        "outputId": "1bd4f524-b950-460d-a598-f1c598d7c5c5"
      },
      "execution_count": 14,
      "outputs": [
        {
          "output_type": "stream",
          "name": "stdout",
          "text": [
            "               Age\n",
            "count  1453.000000\n",
            "mean     44.604955\n",
            "std      14.221178\n",
            "min      18.000000\n",
            "25%      33.000000\n",
            "50%      45.000000\n",
            "75%      57.000000\n",
            "max      71.000000\n"
          ]
        }
      ]
    },
    {
      "cell_type": "code",
      "source": [
        "import seaborn as sns\n",
        "\n",
        "# Histogram for Age distribution\n",
        "plt.figure(figsize=(8, 5))\n",
        "sns.histplot(data['Age'], bins=10, kde=True, color='skyblue')\n",
        "plt.title('Age Distribution')\n",
        "plt.show()\n",
        "\n"
      ],
      "metadata": {
        "colab": {
          "base_uri": "https://localhost:8080/",
          "height": 487
        },
        "id": "rzZKqZRAAU73",
        "outputId": "523f92e4-4567-444a-9324-cfd64aa8c4cd"
      },
      "execution_count": 16,
      "outputs": [
        {
          "output_type": "display_data",
          "data": {
            "text/plain": [
              "<Figure size 800x500 with 1 Axes>"
            ],
            "image/png": "[encoded data removed]"
          },
          "metadata": {}
        }
      ]
    },
    {
      "cell_type": "markdown",
      "source": [
        "**PRE PROCESSING**"
      ],
      "metadata": {
        "id": "Etn9o9EVBV_t"
      }
    },
    {
      "cell_type": "code",
      "source": [
        "from sklearn.preprocessing import LabelEncoder\n",
        "\n",
        "# Encode categorical variables (e.g., 'Gender')\n",
        "encoder = LabelEncoder()\n",
        "data['Gender_Encoded'] = encoder.fit_transform(data['Gender'])\n",
        "\n",
        "print(data[['Gender', 'Gender_Encoded']].head())\n"
      ],
      "metadata": {
        "colab": {
          "base_uri": "https://localhost:8080/"
        },
        "id": "R7fxNQEoBHhr",
        "outputId": "039bc514-bbad-466f-c1fb-4b549e37f25d"
      },
      "execution_count": 17,
      "outputs": [
        {
          "output_type": "stream",
          "name": "stdout",
          "text": [
            "   Gender  Gender_Encoded\n",
            "0  Female               0\n",
            "1  Female               0\n",
            "2  Female               0\n",
            "3  Female               0\n",
            "4    Male               1\n"
          ]
        }
      ]
    },
    {
      "cell_type": "markdown",
      "source": [
        "nemerical values"
      ],
      "metadata": {
        "id": "24UjcLxTDL1c"
      }
    },
    {
      "cell_type": "code",
      "source": [
        "from sklearn.preprocessing import StandardScaler\n",
        "\n",
        "# Standardize numeric columns\n",
        "scaler = StandardScaler()\n",
        "numeric_columns = data.select_dtypes(include=['float64', 'int64']).columns\n",
        "scaled_data = scaler.fit_transform(data[numeric_columns])\n",
        "\n",
        "# Create DataFrame of scaled data\n",
        "scaled_df = pd.DataFrame(scaled_data, columns=numeric_columns)\n",
        "print(scaled_df.head())\n"
      ],
      "metadata": {
        "colab": {
          "base_uri": "https://localhost:8080/"
        },
        "id": "bUxGPovvDNSi",
        "outputId": "183594c0-f7d6-4f05-b41f-9858948f83df"
      },
      "execution_count": 18,
      "outputs": [
        {
          "output_type": "stream",
          "name": "stdout",
          "text": [
            "        Age  Gender_Encoded\n",
            "0  1.153258       -0.918645\n",
            "1  0.449839       -0.918645\n",
            "2  1.223600       -0.918645\n",
            "3  1.715993       -0.918645\n",
            "4  0.309156        1.088560\n"
          ]
        }
      ]
    },
    {
      "cell_type": "markdown",
      "source": [
        "**PCA**"
      ],
      "metadata": {
        "id": "e2DkLbDABX8e"
      }
    },
    {
      "cell_type": "code",
      "source": [
        "# Ensure no NaN values exist in the scaled data\n",
        "print(scaled_df.isnull().sum().sum())  # Should be 0\n"
      ],
      "metadata": {
        "colab": {
          "base_uri": "https://localhost:8080/"
        },
        "id": "HxH1hb6VBU90",
        "outputId": "d7210442-70bd-490e-92b2-3648985eca4f"
      },
      "execution_count": 19,
      "outputs": [
        {
          "output_type": "stream",
          "name": "stdout",
          "text": [
            "0\n"
          ]
        }
      ]
    },
    {
      "cell_type": "code",
      "source": [
        "from sklearn.decomposition import PCA\n",
        "\n",
        "# Apply PCA with 2 components\n",
        "pca = PCA(n_components=2)\n",
        "pca_result = pca.fit_transform(scaled_df)\n",
        "\n",
        "# Create DataFrame with PCA results\n",
        "pca_df = pd.DataFrame(pca_result, columns=['PC1', 'PC2'])\n",
        "\n",
        "# Display the first few rows of PCA results\n",
        "print(pca_df.head())\n"
      ],
      "metadata": {
        "colab": {
          "base_uri": "https://localhost:8080/"
        },
        "id": "OFCJ0CqrBbe_",
        "outputId": "b630b9e2-a6b6-43c0-dbc7-533fff9b1440"
      },
      "execution_count": 20,
      "outputs": [
        {
          "output_type": "stream",
          "name": "stdout",
          "text": [
            "        PC1       PC2\n",
            "0  1.465057  0.165897\n",
            "1  0.967665 -0.331496\n",
            "2  1.514796  0.215636\n",
            "3  1.862970  0.563810\n",
            "4 -0.551122  0.988334\n"
          ]
        }
      ]
    },
    {
      "cell_type": "code",
      "source": [
        "plt.figure(figsize=(8, 6))\n",
        "plt.scatter(pca_df['PC1'], pca_df['PC2'], alpha=0.5)\n",
        "plt.title('PCA: Principal Component Analysis')\n",
        "plt.xlabel('PC1')\n",
        "plt.ylabel('PC2')\n",
        "plt.show()\n",
        "\n",
        "# Print the explained variance ratio to see how much variance is captured\n",
        "print(f'Explained variance ratio: {pca.explained_variance_ratio_}')\n"
      ],
      "metadata": {
        "colab": {
          "base_uri": "https://localhost:8080/",
          "height": 581
        },
        "id": "KRCm5iZtu_XD",
        "outputId": "2cb31dbd-3370-468a-f4fa-053c85db2aa4"
      },
      "execution_count": 21,
      "outputs": [
        {
          "output_type": "display_data",
          "data": {
            "text/plain": [
              "<Figure size 800x600 with 1 Axes>"
            ],
            "image/png": "[encoded data removed]"
          },
          "metadata": {}
        },
        {
          "output_type": "stream",
          "name": "stdout",
          "text": [
            "Explained variance ratio: [0.50992586 0.49007414]\n"
          ]
        }
      ]
    },
    {
      "cell_type": "code",
      "source": [],
      "metadata": {
        "id": "2O4hlLbwvCf0"
      },
      "execution_count": null,
      "outputs": []
    }
  ]
}